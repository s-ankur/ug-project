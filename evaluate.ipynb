{
 "cells": [
  {
   "cell_type": "code",
   "execution_count": 1,
   "metadata": {},
   "outputs": [],
   "source": [
    "import warnings\n",
    "\n",
    "warnings.filterwarnings(\"ignore\")\n",
    "import tensorflow as tf\n",
    "\n",
    "tf.get_logger().setLevel(\"ERROR\")"
   ]
  },
  {
   "cell_type": "code",
   "execution_count": 2,
   "metadata": {},
   "outputs": [
    {
     "name": "stderr",
     "output_type": "stream",
     "text": [
      "Using TensorFlow backend.\n"
     ]
    }
   ],
   "source": [
    "import numpy as np\n",
    "import pandas as pd\n",
    "import sklearn.metrics as metrics\n",
    "from keras.models import load_model"
   ]
  },
  {
   "cell_type": "code",
   "execution_count": 3,
   "metadata": {},
   "outputs": [],
   "source": [
    "import matplotlib.pyplot as plt\n",
    "from matplotlib import animation, rc\n",
    "\n",
    "rc(\"animation\", html=\"html5\")"
   ]
  },
  {
   "cell_type": "code",
   "execution_count": 4,
   "metadata": {},
   "outputs": [],
   "source": [
    "from dataset import suny_international\n",
    "from animate import plot_daily\n",
    "from utility import split_sequence"
   ]
  },
  {
   "cell_type": "code",
   "execution_count": 6,
   "metadata": {},
   "outputs": [],
   "source": [
    "df = suny_international.load_data()\n",
    "df_train, df_test = suny_international.train_test_split(df)\n",
    "plot_daily(df['GHI'],save='media/GHI.mp4', index=df.index)\n"
   ]
  },
  {
   "cell_type": "code",
   "execution_count": 11,
   "metadata": {},
   "outputs": [
    {
     "data": {
      "text/html": [
       "\n",
       "<div align=\"middle\">\n",
       "<video width=\"80%\"  src=\"media/plot_simple.mp4\" type=\"video/mp4\" controls>\n",
       "</video></div>"
      ],
      "text/plain": [
       "<IPython.core.display.HTML object>"
      ]
     },
     "execution_count": 11,
     "metadata": {},
     "output_type": "execute_result"
    }
   ],
   "source": [
    "from IPython.display import HTML\n",
    "HTML(\"\"\"\n",
    "<div align=\"middle\">\n",
    "<video width=\"80%\"  src=\"media/plot_simple.mp4\" type=\"video/mp4\" controls>\n",
    "</video></div>\"\"\")"
   ]
  },
  {
   "cell_type": "code",
   "execution_count": null,
   "metadata": {},
   "outputs": [],
   "source": [
    "X = np.array(df_test.index.minute + df_test.index.hour * 60).reshape(-1, 1)\n",
    "y = np.array(df_test[\"GHI\"])\n",
    "model = load_model(\"models/simple_dnn_daily.h5\")\n",
    "y_pred = model.predict(X)\n",
    "plot_daily(y, y_pred.ravel(), index=df_test.index)"
   ]
  },
  {
   "cell_type": "code",
   "execution_count": null,
   "metadata": {},
   "outputs": [],
   "source": [
    "X = np.array([df_test.index.minute + df_test.index.hour * 60, df_test.index.month]).T\n",
    "y = np.array(df_test[\"GHI\"])\n",
    "model = load_model(\"models/simple_dnn_monthly.h5\")\n",
    "y_pred = model.predict(X)\n",
    "plot_daily(y, y_pred.ravel(), index=df_test.index)"
   ]
  },
  {
   "cell_type": "code",
   "execution_count": null,
   "metadata": {},
   "outputs": [],
   "source": [
    "X = np.array(\n",
    "    [\n",
    "        df_test.index.minute + df_test.index.hour * 60,\n",
    "        df_test.index.month,\n",
    "        *(df_test[factor] for factor in suny_international.atmospheric_factors),\n",
    "    ]\n",
    ").T\n",
    "y = np.array(df_test[\"GHI\"])\n",
    "model = load_model(\"models/simple_dnn_atmospheric.h5\")\n",
    "y_pred = model.predict(X)\n",
    "plot_daily(y, y_pred.ravel(), index=df_test.index)"
   ]
  },
  {
   "cell_type": "code",
   "execution_count": null,
   "metadata": {},
   "outputs": [],
   "source": [
    "n_features = 1\n",
    "n_steps = 20\n",
    "X, y = split_sequence(df_test[\"GHI\"], n_steps)\n",
    "X = X.reshape((X.shape[0], X.shape[1], n_features))\n",
    "model = load_model(\"models/simple_rnn.h5\")\n",
    "y_pred = model.predict(X)\n",
    "plot_daily(y, y_pred.ravel(), index=df_test.index[n_steps:])"
   ]
  },
  {
   "cell_type": "code",
   "execution_count": null,
   "metadata": {},
   "outputs": [],
   "source": []
  }
 ],
 "metadata": {
  "kernelspec": {
   "display_name": "Python 3",
   "language": "python",
   "name": "python3"
  },
  "language_info": {
   "codemirror_mode": {
    "name": "ipython",
    "version": 3
   },
   "file_extension": ".py",
   "mimetype": "text/x-python",
   "name": "python",
   "nbconvert_exporter": "python",
   "pygments_lexer": "ipython3",
   "version": "3.7.5"
  }
 },
 "nbformat": 4,
 "nbformat_minor": 4
}
