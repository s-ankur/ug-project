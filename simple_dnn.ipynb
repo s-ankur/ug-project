{
 "cells": [
  {
   "cell_type": "code",
   "execution_count": 1,
   "metadata": {
    "pycharm": {
     "is_executing": true
    }
   },
   "outputs": [],
   "source": [
    "import warnings\n",
    "import numpy as np\n",
    "import sklearn.metrics as metrics\n",
    "import tensorflow as tf"
   ]
  },
  {
   "cell_type": "code",
   "execution_count": 2,
   "metadata": {},
   "outputs": [],
   "source": [
    "warnings.filterwarnings(\"ignore\")\n",
    "tf.get_logger().setLevel('ERROR')"
   ]
  },
  {
   "cell_type": "code",
   "execution_count": 3,
   "metadata": {
    "jupyter": {
     "source_hidden": true
    },
    "pycharm": {
     "is_executing": true
    }
   },
   "outputs": [
    {
     "name": "stderr",
     "output_type": "stream",
     "text": [
      "Using TensorFlow backend.\n"
     ]
    }
   ],
   "source": [
    "from keras.models import Sequential\n",
    "from keras.layers import Dense\n",
    "\n",
    "def baseline_model(input_dim):\n",
    "    regressor = Sequential()\n",
    "    regressor.add(Dense(units=20, activation='relu', input_dim=input_dim)) \n",
    "    regressor.add(Dense(units=20, activation='relu')) \n",
    "    regressor.add(Dense(units=20, activation='relu')) \n",
    "    regressor.add(Dense(units=1))\n",
    "    regressor.compile(loss='mean_squared_error', optimizer='adam')\n",
    "    return regressor"
   ]
  },
  {
   "cell_type": "code",
   "execution_count": 4,
   "metadata": {},
   "outputs": [],
   "source": [
    "from dataset import suny_international\n",
    "df = suny_international.load_data()\n",
    "df_train,df_test = suny_international.train_test_split(df)"
   ]
  },
  {
   "cell_type": "code",
   "execution_count": 5,
   "metadata": {
    "collapsed": false,
    "jupyter": {
     "outputs_hidden": false
    },
    "pycharm": {
     "is_executing": true,
     "name": "#%%\n"
    }
   },
   "outputs": [
    {
     "name": "stdout",
     "output_type": "stream",
     "text": [
      "21478.2863944766\n"
     ]
    }
   ],
   "source": [
    "X=np.array(df_train.index.minute+df_train.index.hour*60).reshape(-1,1)\n",
    "y=np.array(df_train['GHI'])\n",
    "model = baseline_model(1)\n",
    "history=model.fit(X,y,epochs=40,verbose=False)\n",
    "model.save('models/simple_dnn_daily.h5')\n",
    "print(history.history['loss'][-1])"
   ]
  },
  {
   "cell_type": "code",
   "execution_count": 6,
   "metadata": {},
   "outputs": [
    {
     "data": {
      "text/plain": [
       "21435.93242801197"
      ]
     },
     "execution_count": 6,
     "metadata": {},
     "output_type": "execute_result"
    }
   ],
   "source": [
    "X=np.array(df_test.index.minute+df_test.index.hour*60).reshape(-1,1)\n",
    "y=np.array(df_test['GHI'])\n",
    "y_pred = model.predict(X)\n",
    "metrics.mean_squared_error(y_true=y,y_pred=y_pred)"
   ]
  },
  {
   "cell_type": "code",
   "execution_count": 7,
   "metadata": {
    "collapsed": false,
    "jupyter": {
     "outputs_hidden": false
    },
    "pycharm": {
     "is_executing": true,
     "name": "#%%\n"
    }
   },
   "outputs": [
    {
     "name": "stdout",
     "output_type": "stream",
     "text": [
      "14360.295877572684\n"
     ]
    }
   ],
   "source": [
    "X=np.array([df_train.index.minute+df_train.index.hour*60,df_train.index.month]).T\n",
    "y=np.array(df_train['GHI'])\n",
    "model = baseline_model(X.shape[-1])\n",
    "history=model.fit(X,y,epochs=40,verbose=False)\n",
    "model.save('models/simple_dnn_monthly.h5')\n",
    "print(history.history['loss'][-1])"
   ]
  },
  {
   "cell_type": "code",
   "execution_count": 8,
   "metadata": {},
   "outputs": [
    {
     "data": {
      "text/plain": [
       "15917.75169007214"
      ]
     },
     "execution_count": 8,
     "metadata": {},
     "output_type": "execute_result"
    }
   ],
   "source": [
    "X=np.array([df_test.index.minute+df_test.index.hour*60,df_test.index.month]).T\n",
    "y=np.array(df_test['GHI'])\n",
    "y_pred = model.predict(X)\n",
    "metrics.mean_squared_error(y_true=y,y_pred=y_pred)"
   ]
  },
  {
   "cell_type": "code",
   "execution_count": 9,
   "metadata": {
    "collapsed": false,
    "jupyter": {
     "outputs_hidden": false
    },
    "pycharm": {
     "is_executing": true,
     "name": "#%%\n"
    }
   },
   "outputs": [
    {
     "name": "stdout",
     "output_type": "stream",
     "text": [
      "2714.5152660355952\n"
     ]
    }
   ],
   "source": [
    "X=np.array([df_train.index.minute+df_train.index.hour*60,\n",
    "            df_train.index.month,\n",
    "            *(df_train[factor] for factor in suny_international.atmospheric_factors)]).T\n",
    "y=np.array(df_train['GHI'])\n",
    "model = baseline_model(X.shape[-1])\n",
    "history=model.fit(X,y,epochs=40,verbose=False)\n",
    "model.save('models/simple_dnn_atmospheric.h5')\n",
    "print(history.history['loss'][-1])"
   ]
  },
  {
   "cell_type": "code",
   "execution_count": 10,
   "metadata": {},
   "outputs": [
    {
     "data": {
      "text/plain": [
       "2868.548992168164"
      ]
     },
     "execution_count": 10,
     "metadata": {},
     "output_type": "execute_result"
    }
   ],
   "source": [
    "X=np.array([df_test.index.minute+df_test.index.hour*60,\n",
    "            df_test.index.month,\n",
    "            *(df_test[factor] for factor in suny_international.atmospheric_factors)]).T\n",
    "y=np.array(df_test['GHI'])\n",
    "y_pred = model.predict(X)\n",
    "metrics.mean_squared_error(y_true=y,y_pred=y_pred)"
   ]
  }
 ],
 "metadata": {
  "kernelspec": {
   "display_name": "PyCharm (ug-project)",
   "language": "python",
   "name": "pycharm-fb017fbd"
  },
  "language_info": {
   "codemirror_mode": {
    "name": "ipython",
    "version": 3
   },
   "file_extension": ".py",
   "mimetype": "text/x-python",
   "name": "python",
   "nbconvert_exporter": "python",
   "pygments_lexer": "ipython3",
   "version": "3.7.5"
  },
  "pycharm": {
   "stem_cell": {
    "cell_type": "raw",
    "metadata": {
     "collapsed": false
    },
    "source": []
   }
  }
 },
 "nbformat": 4,
 "nbformat_minor": 4
}
