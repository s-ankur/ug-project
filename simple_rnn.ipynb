{
 "cells": [
  {
   "cell_type": "code",
   "execution_count": 7,
   "metadata": {},
   "outputs": [],
   "source": [
    "import warnings\n",
    "import sklearn.metrics as metrics\n",
    "from utility import split_sequence\n",
    "from dataset import suny_international\n",
    "import tensorflow as tf"
   ]
  },
  {
   "cell_type": "code",
   "execution_count": 8,
   "metadata": {},
   "outputs": [],
   "source": [
    "warnings.filterwarnings(\"ignore\")\n",
    "tf.get_logger().setLevel('ERROR')"
   ]
  },
  {
   "cell_type": "code",
   "execution_count": 24,
   "metadata": {},
   "outputs": [],
   "source": [
    "import numpy as np\n",
    "from keras.models import Sequential,Model\n",
    "from keras.layers import LSTM\n",
    "from keras.layers import Dense,Input"
   ]
  },
  {
   "cell_type": "code",
   "execution_count": 10,
   "metadata": {},
   "outputs": [],
   "source": [
    "def vanilla_lstm(n_steps, n_features):\n",
    "    model = Sequential()\n",
    "    model.add(LSTM(50, activation='relu', input_shape=(n_steps, n_features)))\n",
    "    model.add(Dense(1))\n",
    "    model.compile(optimizer='adam', loss='mse')\n",
    "    return model"
   ]
  },
  {
   "cell_type": "code",
   "execution_count": 11,
   "metadata": {},
   "outputs": [],
   "source": [
    "n_steps=20\n",
    "n_features= 1"
   ]
  },
  {
   "cell_type": "code",
   "execution_count": 15,
   "metadata": {},
   "outputs": [],
   "source": [
    "df=suny_international.load_data()\n",
    "df_train,df_test = suny_international.train_test_split(df)"
   ]
  },
  {
   "cell_type": "code",
   "execution_count": 7,
   "metadata": {},
   "outputs": [],
   "source": [
    "X, y = split_sequence(df_train['GHI'], n_steps)\n",
    "X = X.reshape((X.shape[0], X.shape[1], n_features))"
   ]
  },
  {
   "cell_type": "code",
   "execution_count": 8,
   "metadata": {},
   "outputs": [
    {
     "name": "stdout",
     "output_type": "stream",
     "text": [
      "WARNING:tensorflow:From /opt/miniconda3/miniconda3/envs/env/lib/python3.7/site-packages/tensorflow/python/framework/op_def_library.py:263: colocate_with (from tensorflow.python.framework.ops) is deprecated and will be removed in a future version.\n",
      "Instructions for updating:\n",
      "Colocations handled automatically by placer.\n",
      "WARNING:tensorflow:From /opt/miniconda3/miniconda3/envs/env/lib/python3.7/site-packages/tensorflow/python/ops/math_ops.py:3066: to_int32 (from tensorflow.python.ops.math_ops) is deprecated and will be removed in a future version.\n",
      "Instructions for updating:\n",
      "Use tf.cast instead.\n",
      "3440.1598347279205\n"
     ]
    }
   ],
   "source": [
    "model=vanilla_lstm(n_steps, n_features)\n",
    "history=model.fit(X,y,epochs=40,verbose=False)\n",
    "model.save('models/simple_rnn.h5')\n",
    "print(history.history['loss'][-1])"
   ]
  },
  {
   "cell_type": "code",
   "execution_count": 9,
   "metadata": {},
   "outputs": [
    {
     "data": {
      "text/plain": [
       "4296.363000494793"
      ]
     },
     "execution_count": 9,
     "metadata": {},
     "output_type": "execute_result"
    }
   ],
   "source": [
    "X, y = split_sequence(df_test, n_steps)\n",
    "X = X.reshape((X.shape[0], X.shape[1], n_features))\n",
    "y_pred = model.predict(X)\n",
    "metrics.mean_squared_error(y_true=y,y_pred=y_pred)"
   ]
  },
  {
   "cell_type": "code",
   "execution_count": 36,
   "metadata": {},
   "outputs": [],
   "source": [
    "from keras.layers import concatenate\n",
    "\n",
    "def lstm_with_weather(n_steps, n_features):\n",
    "    temporal_input = Input(shape=(n_steps,1))\n",
    "    lstm  = LSTM(50, activation='relu')(temporal_input)\n",
    "    non_temporal_input =Input(shape=(n_features,))\n",
    "    dense1 = Dense(units=20, activation='relu')(non_temporal_input) \n",
    "    all_info = concatenate(inputs=[lstm, dense1])\n",
    "    dense3 = Dense(units=10, activation='relu')(all_info)\n",
    "    output = Dense(units=1)(dense3)\n",
    "    model = Model([temporal_input, non_temporal_input], output)\n",
    "    model.compile(optimizer='adam', loss='mse')\n",
    "    return model"
   ]
  },
  {
   "cell_type": "code",
   "execution_count": 37,
   "metadata": {},
   "outputs": [],
   "source": [
    "n_steps=20\n",
    "n_features= len(suny_international.atmospheric_factors)"
   ]
  },
  {
   "cell_type": "code",
   "execution_count": 32,
   "metadata": {},
   "outputs": [],
   "source": [
    "X_nontemporal=np.array([*(df_train[factor] for factor in suny_international.atmospheric_factors)]).T\n",
    "X_nontemporal=X_nontemporal[n_steps:]\n",
    "X_temporal, y = split_sequence(df_train['GHI'], n_steps)\n",
    "X_temporal = X_temporal.reshape((X_temporal.shape[0], X_temporal.shape[1], 1))\n",
    "X=[X_temporal,X_nontemporal]"
   ]
  },
  {
   "cell_type": "code",
   "execution_count": 38,
   "metadata": {},
   "outputs": [
    {
     "name": "stdout",
     "output_type": "stream",
     "text": [
      "Epoch 1/40\n",
      "52588/52588 [==============================] - 46s 880us/step - loss: 16691.6269\n",
      "Epoch 2/40\n",
      "52588/52588 [==============================] - 47s 893us/step - loss: 4868.7353\n",
      "Epoch 3/40\n",
      "52588/52588 [==============================] - 44s 843us/step - loss: 3943.8434\n",
      "Epoch 4/40\n",
      "52588/52588 [==============================] - 39s 746us/step - loss: 3520.9397\n",
      "Epoch 5/40\n",
      "52588/52588 [==============================] - 43s 817us/step - loss: 3341.6771\n",
      "Epoch 6/40\n",
      "52588/52588 [==============================] - 37s 700us/step - loss: 3133.2629\n",
      "Epoch 7/40\n",
      "52588/52588 [==============================] - 34s 640us/step - loss: 3072.4762\n",
      "Epoch 8/40\n",
      "52588/52588 [==============================] - 37s 712us/step - loss: 3037.2125\n",
      "Epoch 9/40\n",
      "52588/52588 [==============================] - 39s 749us/step - loss: 3029.4447\n",
      "Epoch 10/40\n",
      "52588/52588 [==============================] - 46s 883us/step - loss: 3428.0865\n",
      "Epoch 11/40\n",
      "52588/52588 [==============================] - 46s 878us/step - loss: 2983.5583\n",
      "Epoch 12/40\n",
      "52588/52588 [==============================] - 37s 711us/step - loss: 2950.6609\n",
      "Epoch 13/40\n",
      "52588/52588 [==============================] - 33s 628us/step - loss: 3073.6331\n",
      "Epoch 14/40\n",
      "52588/52588 [==============================] - 34s 650us/step - loss: 2929.1287\n",
      "Epoch 15/40\n",
      "52588/52588 [==============================] - 37s 701us/step - loss: 2897.0653\n",
      "Epoch 16/40\n",
      "52588/52588 [==============================] - 47s 899us/step - loss: 2876.5290\n",
      "Epoch 17/40\n",
      "52588/52588 [==============================] - 48s 906us/step - loss: 2885.2144\n",
      "Epoch 18/40\n",
      "52588/52588 [==============================] - 48s 904us/step - loss: 2827.0953\n",
      "Epoch 19/40\n",
      "52588/52588 [==============================] - 47s 903us/step - loss: 2813.2447\n",
      "Epoch 20/40\n",
      "52588/52588 [==============================] - 48s 903us/step - loss: 2765.0358\n",
      "Epoch 21/40\n",
      "52588/52588 [==============================] - 47s 902us/step - loss: 2738.9541\n",
      "Epoch 22/40\n",
      "52588/52588 [==============================] - 47s 902us/step - loss: 3113.2810\n",
      "Epoch 23/40\n",
      "52588/52588 [==============================] - 46s 868us/step - loss: 2767.1213\n",
      "Epoch 24/40\n",
      "52588/52588 [==============================] - 44s 844us/step - loss: 2607.3638\n",
      "Epoch 25/40\n",
      "52588/52588 [==============================] - 44s 842us/step - loss: 2506.6544\n",
      "Epoch 26/40\n",
      "52588/52588 [==============================] - 44s 841us/step - loss: 2444.0323\n",
      "Epoch 27/40\n",
      "52588/52588 [==============================] - 45s 854us/step - loss: 2372.9126\n",
      "Epoch 28/40\n",
      "52588/52588 [==============================] - 45s 851us/step - loss: 2325.3339\n",
      "Epoch 29/40\n",
      "52588/52588 [==============================] - 45s 850us/step - loss: 2314.8598\n",
      "Epoch 30/40\n",
      "52588/52588 [==============================] - 744s 14ms/step - loss: 2270.1117\n",
      "Epoch 31/40\n",
      "52588/52588 [==============================] - 60s 1ms/step - loss: 2217.3238\n",
      "Epoch 32/40\n",
      "52588/52588 [==============================] - 50s 959us/step - loss: 2199.4877\n",
      "Epoch 33/40\n",
      "52588/52588 [==============================] - 41s 776us/step - loss: 2282.0114\n",
      "Epoch 34/40\n",
      "52588/52588 [==============================] - 47s 896us/step - loss: 2185.3172\n",
      "Epoch 35/40\n",
      "52588/52588 [==============================] - 47s 901us/step - loss: 2165.3259\n",
      "Epoch 36/40\n",
      "52588/52588 [==============================] - 45s 865us/step - loss: 2148.0918\n",
      "Epoch 37/40\n",
      "52588/52588 [==============================] - 36s 677us/step - loss: 2128.8524\n",
      "Epoch 38/40\n",
      "52588/52588 [==============================] - 34s 645us/step - loss: 2123.5536\n",
      "Epoch 39/40\n",
      "52588/52588 [==============================] - 45s 859us/step - loss: 2099.1380\n",
      "Epoch 40/40\n",
      "52588/52588 [==============================] - 44s 830us/step - loss: 2092.5107\n"
     ]
    },
    {
     "data": {
      "text/plain": [
       "<keras.callbacks.History at 0x7fc873ca9650>"
      ]
     },
     "execution_count": 38,
     "metadata": {},
     "output_type": "execute_result"
    }
   ],
   "source": [
    "model=lstm_with_weather(n_steps,n_features)\n",
    "history=model.fit(X,y,epochs=40,verbose=False)\n",
    "model.save('models/simple_rnn_atmospheric.h5')\n",
    "print(history.history['loss'][-1])"
   ]
  },
  {
   "cell_type": "code",
   "execution_count": 40,
   "metadata": {},
   "outputs": [],
   "source": [
    "X_nontemporal=np.array([*(df_test[factor] for factor in suny_international.atmospheric_factors)]).T\n",
    "X_nontemporal=X_nontemporal[n_steps:]\n",
    "X_temporal, y = split_sequence(df_test['GHI'], n_steps)\n",
    "X_temporal = X_temporal.reshape((X_temporal.shape[0], X_temporal.shape[1], 1))\n",
    "X=[X_temporal,X_nontemporal]"
   ]
  },
  {
   "cell_type": "code",
   "execution_count": 41,
   "metadata": {},
   "outputs": [
    {
     "data": {
      "text/plain": [
       "2494.159641600965"
      ]
     },
     "execution_count": 41,
     "metadata": {},
     "output_type": "execute_result"
    }
   ],
   "source": [
    "y_pred = model.predict(X)\n",
    "metrics.mean_squared_error(y_true=y,y_pred=y_pred)"
   ]
  },
  {
   "cell_type": "code",
   "execution_count": null,
   "metadata": {},
   "outputs": [],
   "source": []
  }
 ],
 "metadata": {
  "kernelspec": {
   "display_name": "Python 3",
   "language": "python",
   "name": "python3"
  },
  "language_info": {
   "codemirror_mode": {
    "name": "ipython",
    "version": 3
   },
   "file_extension": ".py",
   "mimetype": "text/x-python",
   "name": "python",
   "nbconvert_exporter": "python",
   "pygments_lexer": "ipython3",
   "version": "3.7.5"
  }
 },
 "nbformat": 4,
 "nbformat_minor": 4
}
