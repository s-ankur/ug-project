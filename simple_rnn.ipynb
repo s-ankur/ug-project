{
 "cells": [
  {
   "cell_type": "code",
   "execution_count": 4,
   "metadata": {},
   "outputs": [],
   "source": [
    "import warnings\n",
    "import sklearn.metrics as metrics\n",
    "from utility import split_sequence,plot_history\n",
    "from dataset import suny_international\n",
    "import tensorflow as tf"
   ]
  },
  {
   "cell_type": "code",
   "execution_count": 5,
   "metadata": {},
   "outputs": [],
   "source": [
    "warnings.filterwarnings(\"ignore\")\n",
    "tf.get_logger().setLevel('ERROR')"
   ]
  },
  {
   "cell_type": "code",
   "execution_count": 6,
   "metadata": {},
   "outputs": [],
   "source": [
    "import matplotlib.pyplot as plt\n",
    "plt.rcParams['figure.figsize'] = [15, 5]"
   ]
  },
  {
   "cell_type": "code",
   "execution_count": 7,
   "metadata": {},
   "outputs": [
    {
     "name": "stderr",
     "output_type": "stream",
     "text": [
      "Using TensorFlow backend.\n"
     ]
    }
   ],
   "source": [
    "import numpy as np\n",
    "from keras.models import Sequential,Model\n",
    "from keras.layers import LSTM\n",
    "from keras.layers import Dense,Input"
   ]
  },
  {
   "cell_type": "code",
   "execution_count": 8,
   "metadata": {},
   "outputs": [],
   "source": [
    "def vanilla_lstm(n_steps, n_features):\n",
    "    model = Sequential()\n",
    "    model.add(LSTM(50, activation='relu', input_shape=(n_steps, n_features)))\n",
    "    model.add(Dense(1))\n",
    "    model.compile(optimizer='adam', loss='mse')\n",
    "    return model"
   ]
  },
  {
   "cell_type": "code",
   "execution_count": 9,
   "metadata": {},
   "outputs": [],
   "source": [
    "n_steps=20\n",
    "n_forward=6\n",
    "n_features= 1"
   ]
  },
  {
   "cell_type": "code",
   "execution_count": 10,
   "metadata": {},
   "outputs": [],
   "source": [
    "df=suny_international.load_data()\n",
    "df_train,df_test = suny_international.train_test_split(df)"
   ]
  },
  {
   "cell_type": "code",
   "execution_count": 13,
   "metadata": {},
   "outputs": [],
   "source": [
    "X, y = split_sequence(df_train['GHI'], n_steps,n_forward)\n",
    "X = X.reshape((X.shape[0], X.shape[1], n_features))\n",
    "X_val, y_val = split_sequence(df_test['GHI'], n_steps,n_forward)\n",
    "X_val = X_val.reshape((X_val.shape[0], X_val.shape[1], n_features))"
   ]
  },
  {
   "cell_type": "code",
   "execution_count": null,
   "metadata": {},
   "outputs": [],
   "source": [
    "history ={}"
   ]
  },
  {
   "cell_type": "code",
   "execution_count": 8,
   "metadata": {},
   "outputs": [
    {
     "name": "stdout",
     "output_type": "stream",
     "text": [
      "WARNING:tensorflow:From /opt/miniconda3/miniconda3/envs/env/lib/python3.7/site-packages/tensorflow/python/framework/op_def_library.py:263: colocate_with (from tensorflow.python.framework.ops) is deprecated and will be removed in a future version.\n",
      "Instructions for updating:\n",
      "Colocations handled automatically by placer.\n",
      "WARNING:tensorflow:From /opt/miniconda3/miniconda3/envs/env/lib/python3.7/site-packages/tensorflow/python/ops/math_ops.py:3066: to_int32 (from tensorflow.python.ops.math_ops) is deprecated and will be removed in a future version.\n",
      "Instructions for updating:\n",
      "Use tf.cast instead.\n",
      "3440.1598347279205\n"
     ]
    }
   ],
   "source": [
    "model=vanilla_lstm(n_steps, n_features)\n",
    "history['simple_rnn']=model.fit(X,y, validation_data=(X_val,y_val),epochs=40,verbose=False)\n",
    "model.save('models/simple_rnn.h5')\n",
    "plot_history(history['simple_rnn'])\n",
    "print(history['simple_rnn'].history['val_loss'][-1])"
   ]
  },
  {
   "cell_type": "code",
   "execution_count": 9,
   "metadata": {},
   "outputs": [
    {
     "data": {
      "text/plain": [
       "4296.363000494793"
      ]
     },
     "execution_count": 9,
     "metadata": {},
     "output_type": "execute_result"
    }
   ],
   "source": [
    "X, y = split_sequence(df_test, n_steps)\n",
    "X = X.reshape((X.shape[0], X.shape[1], n_features))\n",
    "y_pred = model.predict(X)\n",
    "metrics.mean_squared_error(y_true=y,y_pred=y_pred)"
   ]
  },
  {
   "cell_type": "code",
   "execution_count": 36,
   "metadata": {},
   "outputs": [],
   "source": [
    "from keras.layers import concatenate\n",
    "\n",
    "def lstm_with_weather(n_steps, n_features):\n",
    "    temporal_input = Input(shape=(n_steps,1))\n",
    "    lstm  = LSTM(50, activation='relu')(temporal_input)\n",
    "    non_temporal_input =Input(shape=(n_features,))\n",
    "    dense1 = Dense(units=20, activation='relu')(non_temporal_input) \n",
    "    all_info = concatenate(inputs=[lstm, dense1])\n",
    "    dense3 = Dense(units=10, activation='relu')(all_info)\n",
    "    output = Dense(units=1)(dense3)\n",
    "    model = Model([temporal_input, non_temporal_input], output)\n",
    "    model.compile(optimizer='adam', loss='mse')\n",
    "    return model"
   ]
  },
  {
   "cell_type": "code",
   "execution_count": 3,
   "metadata": {},
   "outputs": [],
   "source": [
    "n_features= len(suny_international.atmospheric_factors)"
   ]
  },
  {
   "cell_type": "code",
   "execution_count": 32,
   "metadata": {},
   "outputs": [],
   "source": [
    "X_nontemporal=np.array([*(df_train[factor] for factor in suny_international.atmospheric_factors)]).T\n",
    "X_nontemporal=X_nontemporal[n_steps:]\n",
    "X_temporal, y = split_sequence(df_train['GHI'], n_steps)\n",
    "X_temporal = X_temporal.reshape((X_temporal.shape[0], X_temporal.shape[1], 1))\n",
    "X=[X_temporal,X_nontemporal]\n",
    "\n",
    "X_nontemporal_val=np.array([*(df_test[factor] for factor in suny_international.atmospheric_factors)]).T\n",
    "X_nontemporal_val=X_nontemporal_val[n_steps:]\n",
    "X_temporal_val, y_val = split_sequence(df_test['GHI'], n_steps)\n",
    "X_temporal_val = X_temporal.reshape((X_temporal_val.shape[0], X_temporal_val.shape[1], 1))\n",
    "X_val=[X_temporal,X_nontemporal_val]"
   ]
  },
  {
   "cell_type": "code",
   "execution_count": null,
   "metadata": {},
   "outputs": [],
   "source": [
    "model=lstm_with_weather(n_steps,n_features)\n",
    "history['simple_rnn_atmospheric']=model.fit(X,y, validation_data=(X_val,y_val),epochs=40,verbose=False)\n",
    "model.save('models/simple_rnn_atmospheric.h5')\n",
    "plot_history(history['simple_rnn_atmospheric'])\n",
    "print(history['simple_rnn_atmospheric'].history['val_loss'][-1])"
   ]
  },
  {
   "cell_type": "code",
   "execution_count": null,
   "metadata": {},
   "outputs": [],
   "source": [
    "plt.bar"
   ]
  }
 ],
 "metadata": {
  "kernelspec": {
   "display_name": "Python 3",
   "language": "python",
   "name": "python3"
  },
  "language_info": {
   "codemirror_mode": {
    "name": "ipython",
    "version": 3
   },
   "file_extension": ".py",
   "mimetype": "text/x-python",
   "name": "python",
   "nbconvert_exporter": "python",
   "pygments_lexer": "ipython3",
   "version": "3.7.5"
  }
 },
 "nbformat": 4,
 "nbformat_minor": 4
}
