{
 "cells": [
  {
   "cell_type": "code",
   "execution_count": 14,
   "metadata": {},
   "outputs": [],
   "source": [
    "import warnings\n",
    "import sklearn.metrics as metrics"
   ]
  },
  {
   "cell_type": "code",
   "execution_count": 2,
   "metadata": {},
   "outputs": [],
   "source": [
    "warnings.filterwarnings(\"ignore\")"
   ]
  },
  {
   "cell_type": "code",
   "execution_count": 3,
   "metadata": {},
   "outputs": [
    {
     "name": "stderr",
     "output_type": "stream",
     "text": [
      "Using TensorFlow backend.\n"
     ]
    }
   ],
   "source": [
    "import numpy as np\n",
    "from keras.models import Sequential\n",
    "from keras.layers import LSTM\n",
    "from keras.layers import Dense"
   ]
  },
  {
   "cell_type": "code",
   "execution_count": 4,
   "metadata": {},
   "outputs": [],
   "source": [
    "from dataset import suny_international"
   ]
  },
  {
   "cell_type": "code",
   "execution_count": 5,
   "metadata": {},
   "outputs": [],
   "source": [
    "def split_sequence(sequence, n_steps):\n",
    "    X, y = list(), list()\n",
    "    for i in range(len(sequence)):\n",
    "        # find the end of this pattern\n",
    "        end_ix = i + n_steps\n",
    "        # check if we are beyond the sequence\n",
    "        if end_ix > len(sequence)-1:\n",
    "            break\n",
    "        # gather input and output parts of the pattern\n",
    "        seq_x, seq_y = sequence[i:end_ix], sequence[end_ix]\n",
    "        X.append(seq_x)\n",
    "        y.append(seq_y)\n",
    "    return np.array(X), np.array(y)"
   ]
  },
  {
   "cell_type": "code",
   "execution_count": 6,
   "metadata": {},
   "outputs": [],
   "source": [
    "def vanilla_lstm(n_steps, n_features):\n",
    "    model = Sequential()\n",
    "    model.add(LSTM(50, activation='relu', input_shape=(n_steps, n_features)))\n",
    "    model.add(Dense(1))\n",
    "    model.compile(optimizer='adam', loss='mse')\n",
    "    return model"
   ]
  },
  {
   "cell_type": "code",
   "execution_count": 7,
   "metadata": {},
   "outputs": [],
   "source": [
    "n_steps=20\n",
    "n_features= 1"
   ]
  },
  {
   "cell_type": "code",
   "execution_count": 8,
   "metadata": {},
   "outputs": [],
   "source": [
    "df=suny_international.load_data()['GHI']\n",
    "df_train,df_test = suny_international.train_test_split(df)"
   ]
  },
  {
   "cell_type": "code",
   "execution_count": 9,
   "metadata": {},
   "outputs": [],
   "source": [
    "X, y = split_sequence(df_train, n_steps)\n",
    "X = X.reshape((X.shape[0], X.shape[1], n_features))"
   ]
  },
  {
   "cell_type": "code",
   "execution_count": 12,
   "metadata": {},
   "outputs": [
    {
     "name": "stdout",
     "output_type": "stream",
     "text": [
      "Epoch 1/40\n",
      "22996/22996 [==============================] - 22s 968us/step - loss: 46319.8493\n",
      "Epoch 2/40\n",
      "22996/22996 [==============================] - 23s 1ms/step - loss: 45683.2562\n",
      "Epoch 3/40\n",
      "22996/22996 [==============================] - 21s 935us/step - loss: 14478.5046\n",
      "Epoch 4/40\n",
      "22996/22996 [==============================] - 21s 927us/step - loss: 16007.2480\n",
      "Epoch 5/40\n",
      "22996/22996 [==============================] - 22s 965us/step - loss: 14348.9271\n",
      "Epoch 6/40\n",
      "22996/22996 [==============================] - 22s 963us/step - loss: 12587.0579\n",
      "Epoch 7/40\n",
      "22996/22996 [==============================] - 21s 920us/step - loss: 12114.2940\n",
      "Epoch 8/40\n",
      "22996/22996 [==============================] - 21s 922us/step - loss: 11459.9827\n",
      "Epoch 9/40\n",
      "22996/22996 [==============================] - 23s 995us/step - loss: 11432.6040\n",
      "Epoch 10/40\n",
      "22996/22996 [==============================] - 18s 787us/step - loss: 10938.9952\n",
      "Epoch 11/40\n",
      "22996/22996 [==============================] - 21s 926us/step - loss: 10672.2502\n",
      "Epoch 12/40\n",
      "22996/22996 [==============================] - 20s 891us/step - loss: 10820.8214\n",
      "Epoch 13/40\n",
      "22996/22996 [==============================] - 17s 743us/step - loss: 10530.1504\n",
      "Epoch 14/40\n",
      "22996/22996 [==============================] - 21s 916us/step - loss: 10559.5667\n",
      "Epoch 15/40\n",
      "22996/22996 [==============================] - 22s 969us/step - loss: 10166.2230\n",
      "Epoch 16/40\n",
      "22996/22996 [==============================] - 23s 989us/step - loss: 10609.9903\n",
      "Epoch 17/40\n",
      "22996/22996 [==============================] - 18s 784us/step - loss: 10277.3438\n",
      "Epoch 18/40\n",
      "22996/22996 [==============================] - 17s 738us/step - loss: 10316.7122\n",
      "Epoch 19/40\n",
      "22996/22996 [==============================] - 17s 729us/step - loss: 10093.7352\n",
      "Epoch 20/40\n",
      "22996/22996 [==============================] - 20s 881us/step - loss: 10082.6071\n",
      "Epoch 21/40\n",
      "22996/22996 [==============================] - 23s 992us/step - loss: 10047.9974\n",
      "Epoch 22/40\n",
      "22996/22996 [==============================] - 21s 914us/step - loss: 11068.7916\n",
      "Epoch 23/40\n",
      "22996/22996 [==============================] - 24s 1ms/step - loss: 10348.9507\n",
      "Epoch 24/40\n",
      "22996/22996 [==============================] - 30s 1ms/step - loss: 10405.3479\n",
      "Epoch 25/40\n",
      "22996/22996 [==============================] - 28s 1ms/step - loss: 9860.4967\n",
      "Epoch 26/40\n",
      "22996/22996 [==============================] - 24s 1ms/step - loss: 9757.6728\n",
      "Epoch 27/40\n",
      "22996/22996 [==============================] - 24s 1ms/step - loss: 9615.6314\n",
      "Epoch 28/40\n",
      "22996/22996 [==============================] - 26s 1ms/step - loss: 9436.9117\n",
      "Epoch 29/40\n",
      "22996/22996 [==============================] - 27s 1ms/step - loss: 9534.4095\n",
      "Epoch 30/40\n",
      "22996/22996 [==============================] - 19s 836us/step - loss: 10175.3704\n",
      "Epoch 31/40\n",
      "22996/22996 [==============================] - 24s 1ms/step - loss: 10227.1391\n",
      "Epoch 32/40\n",
      "22996/22996 [==============================] - 23s 984us/step - loss: 9797.4006\n",
      "Epoch 33/40\n",
      "22996/22996 [==============================] - 23s 984us/step - loss: 9619.8452\n",
      "Epoch 34/40\n",
      "22996/22996 [==============================] - 23s 979us/step - loss: 9578.1053\n",
      "Epoch 35/40\n",
      "22996/22996 [==============================] - 23s 1ms/step - loss: 13076.5473\n",
      "Epoch 36/40\n",
      "22996/22996 [==============================] - 26s 1ms/step - loss: 11834.2001\n",
      "Epoch 37/40\n",
      "22996/22996 [==============================] - 22s 967us/step - loss: 10424.9192\n",
      "Epoch 38/40\n",
      "22996/22996 [==============================] - 22s 948us/step - loss: 10240.2105\n",
      "Epoch 39/40\n",
      "22996/22996 [==============================] - 25s 1ms/step - loss: 10459.2861\n",
      "Epoch 40/40\n",
      "22996/22996 [==============================] - 24s 1ms/step - loss: 10298.7286\n",
      "10298.728629775287\n"
     ]
    }
   ],
   "source": [
    "model=vanilla_lstm(n_steps, n_features)\n",
    "history=model.fit(X,y,epochs=40,verbose=True)\n",
    "model.save('models/simple_rnn.h5')\n",
    "print(history.history['loss'][-1])"
   ]
  },
  {
   "cell_type": "code",
   "execution_count": 15,
   "metadata": {},
   "outputs": [
    {
     "data": {
      "text/plain": [
       "11814.849850604623"
      ]
     },
     "execution_count": 15,
     "metadata": {},
     "output_type": "execute_result"
    }
   ],
   "source": [
    "X, y = split_sequence(df_test, n_steps)\n",
    "X = X.reshape((X.shape[0], X.shape[1], n_features))\n",
    "y_pred = model.predict(X)\n",
    "metrics.mean_squared_error(y_true=y,y_pred=y_pred)"
   ]
  },
  {
   "cell_type": "code",
   "execution_count": null,
   "metadata": {},
   "outputs": [],
   "source": []
  }
 ],
 "metadata": {
  "kernelspec": {
   "display_name": "Python 3",
   "language": "python",
   "name": "python3"
  },
  "language_info": {
   "codemirror_mode": {
    "name": "ipython",
    "version": 3
   },
   "file_extension": ".py",
   "mimetype": "text/x-python",
   "name": "python",
   "nbconvert_exporter": "python",
   "pygments_lexer": "ipython3",
   "version": "3.7.4"
  }
 },
 "nbformat": 4,
 "nbformat_minor": 4
}
